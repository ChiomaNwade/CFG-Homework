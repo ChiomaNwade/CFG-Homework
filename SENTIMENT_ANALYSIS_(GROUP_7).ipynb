{
 "cells": [
  {
   "cell_type": "markdown",
   "metadata": {
    "id": "tpXeosQWTjr5",
    "outputId": "de051fd2-7037-40ec-fb4d-64bc4e4582df"
   },
   "source": [
    "# SENTIMENT ANALYSIS"
   ]
  },
  {
   "cell_type": "markdown",
   "metadata": {
    "id": "fv0oeRUwm8JH"
   },
   "source": [
    "### We will first attempt a short sentiment analysis using the chat gpt API to have a testrun and establish an understanding of how sentiment analysis works as a group before continuing with our project on movie review sentiment analysis using pytorch"
   ]
  },
  {
   "cell_type": "code",
   "execution_count": null,
   "metadata": {
    "id": "UkoFjED3m8JI"
   },
   "outputs": [],
   "source": [
    "# One way to perform sentiment analysis is by using the ChatGPT API\n",
    "#But first you need to sign Up for the OpenAI API and Obtain an API Key. Replace the \"\"YOUR_API_KEY_HERE\" with your actual API key\n",
    "#pip install openai\n",
    "#Create a Sentiment Analysis Prompt :\n",
    "#Call the ChatGPT API for Sentiment Analysis\n"
   ]
  },
  {
   "cell_type": "code",
   "execution_count": null,
   "metadata": {
    "id": "ezLTBu8-m8JI"
   },
   "outputs": [],
   "source": [
    "import openai\n",
    "openai.api_key = \"YOUR_API_KEY_HERE\"   #you need to put your api key here for it to work\n",
    "\n",
    "text = \"I am bullish on $AAPL\"\n",
    "response = openai.Completion.create(\n",
    "    engine=\"text-davinci-003\",\n",
    "    prompt=(f\"Sentiment analysis of the following text: '{text}'\\n\\nSentiment score: \"),\n",
    "    temperature=0,\n",
    "    max_tokens=1\n",
    ")\n",
    "\n",
    "sentiment = response.choices[0].text.strip()\n",
    "print(sentiment)\n",
    "\n"
   ]
  },
  {
   "cell_type": "code",
   "execution_count": null,
   "metadata": {
    "id": "u__pYOFDm8JI"
   },
   "outputs": [],
   "source": [
    "#We can also code different scenarios based on our responses \"Positive, Negative\" using\n",
    "# if sentiment == \"Positive\":\n",
    "#     print(\"😊\")\n",
    "# elif sentiment == \"Negative\":\n",
    "#     print(\"😔\")\n",
    "# else:\n",
    "#     print(\"😐\")"
   ]
  },
  {
   "cell_type": "code",
   "execution_count": null,
   "metadata": {
    "id": "J9EJyfZPm8JJ"
   },
   "outputs": [],
   "source": [
    "#In the project above, we used the openai.Completion.create() method to send a prompt to the ChatGPT API.\n",
    "#We're passing in the prompt we created earlier, along with several parameters that control how the API generates its response.\n",
    "#After we send the request, we extract the sentiment from the response by taking the first choice in the response.choices list and removing any whitespace using the strip() method.\n"
   ]
  },
  {
   "cell_type": "markdown",
   "metadata": {
    "id": "jntU91H-m8JJ"
   },
   "source": [
    "# The main project:\n"
   ]
  },
  {
   "cell_type": "markdown",
   "metadata": {
    "id": "-cMMz20Mm8JJ"
   },
   "source": [
    "### Now that we understand what sentiment analysis is about, we will be creating a basic sentiment analysis classifier for movie reviews using the pytorch library for running the LSTM Neural network machine learning model.\n",
    "\n",
    "### This classifier will determine whether user reviews express a positive, negative, or neutral sentiment. To accomplish this Python-based sentiment analysis project, we will leverage the IMDb movie review dataset. consisting of 50,000 global movie reviews. This dataset is designated for sentiment analysis and involves a binary classification task where reviews are labeled either positive or negative."
   ]
  },
  {
   "cell_type": "markdown",
   "metadata": {
    "id": "igOaXj6czdO_"
   },
   "source": [
    "## Preparation of data\n",
    "We use the field method of the data class to decide how data needs to be preprocessed. We also set the random seed to a certain number, which could be any but we mention it just for reproducibility purposes."
   ]
  },
  {
   "cell_type": "code",
   "execution_count": null,
   "metadata": {
    "id": "frQTN3dzm8JJ"
   },
   "outputs": [],
   "source": [
    "#install the relevant libraries:\n",
    "#pip install pandas, pip install numpy, pip install torch\n",
    "\n",
    "#import sys\n",
    "#!{sys.executable} -m pip install spacy\n",
    "#!{sys.executable} -m spacy download en"
   ]
  },
  {
   "cell_type": "code",
   "execution_count": 10,
   "metadata": {
    "id": "Zup5OR-PUOCY"
   },
   "outputs": [],
   "source": [
    "import pandas as pd\n",
    "import numpy as np\n",
    "import matplotlib.pyplot as plt\n",
    "import seaborn as sns"
   ]
  },
  {
   "cell_type": "code",
   "execution_count": null,
   "metadata": {
    "id": "FbrsQDCtUuwU"
   },
   "outputs": [],
   "source": [
    "import random\n",
    "import torch\n",
    "from torchtext.legacy import data\n",
    "from torchtext.legacy import datasets\n",
    "import spacy\n",
    "\n",
    "seed = 42\n",
    "\n",
    "torch.manual_seed(seed)\n",
    "torch.backends.cudnn.deterministic = True\n",
    "device = torch.device('cuda' if torch.cuda.is_available() else 'cpu')\n",
    "\n",
    "txt = data.Field(tokenize = 'spacy',\n",
    "                  tokenizer_language = 'en_core_web_sm',\n",
    "                  include_lengths = True)\n",
    "\n",
    "labels = data.LabelField(dtype = torch.float)"
   ]
  },
  {
   "cell_type": "markdown",
   "metadata": {
    "id": "bod3naPWz9wt"
   },
   "source": [
    "Here we downloaded the imdb dataset for python sentiment analysis and divided it into train test and validation split. Then we further create a validation set from the train set.\n",
    "\n",
    "We further limit the number of words the model will learn to 25000, this will choose the most used 25000 words from the dataset and use them for training. Significantly reducing the work of the model without any real loss in accuracy."
   ]
  },
  {
   "cell_type": "code",
   "execution_count": null,
   "metadata": {
    "colab": {
     "background_save": true,
     "base_uri": "https://localhost:8080/"
    },
    "id": "BxcraaCdUu0W",
    "outputId": "2601194b-8425-4874-b24c-622b51a6c0d1"
   },
   "outputs": [
    {
     "name": "stderr",
     "output_type": "stream",
     "text": [
      "\r",
      "aclImdb_v1.tar.gz:   0%|          | 0.00/84.1M [00:00<?, ?B/s]"
     ]
    },
    {
     "name": "stdout",
     "output_type": "stream",
     "text": [
      "downloading aclImdb_v1.tar.gz\n"
     ]
    },
    {
     "name": "stderr",
     "output_type": "stream",
     "text": [
      "aclImdb_v1.tar.gz: 100%|██████████| 84.1M/84.1M [00:03<00:00, 26.6MB/s]\n"
     ]
    }
   ],
   "source": [
    "train_data, test_data = datasets.IMDB.splits(txt, labels)"
   ]
  },
  {
   "cell_type": "code",
   "execution_count": null,
   "metadata": {
    "id": "ilJfvG4tUu2S"
   },
   "outputs": [],
   "source": [
    "train_data, valid_data = train_data.split(random_state = random.seed(seed))"
   ]
  },
  {
   "cell_type": "code",
   "execution_count": null,
   "metadata": {
    "colab": {
     "base_uri": "https://localhost:8080/"
    },
    "id": "NWJxtI6IUu4r",
    "outputId": "077d60e1-cc68-45c6-fca3-7d36880f89b4"
   },
   "outputs": [
    {
     "name": "stderr",
     "output_type": "stream",
     "text": [
      ".vector_cache/glove.6B.zip: 862MB [02:42, 5.31MB/s]                           \n",
      "100%|█████████▉| 398630/400000 [00:15<00:00, 25442.01it/s]"
     ]
    }
   ],
   "source": [
    "num_words = 25_000\n",
    "\n",
    "txt.build_vocab(train_data,\n",
    "                 max_size = num_words,\n",
    "                 vectors = \"glove.6B.100d\",\n",
    "                 unk_init = torch.Tensor.normal_)\n",
    "\n",
    "labels.build_vocab(train_data)"
   ]
  },
  {
   "cell_type": "markdown",
   "metadata": {
    "id": "GfRDQKXt0YHv"
   },
   "source": [
    "We are now creating a training, testing and validation batch from the data that we have for preparing it to be fed to the model in the form of batches of 64 samples at a time."
   ]
  },
  {
   "cell_type": "code",
   "execution_count": null,
   "metadata": {
    "id": "8GBxa-nhUu7z"
   },
   "outputs": [],
   "source": [
    "btch_size = 64\n",
    "\n",
    "train_itr, valid_itr, test_itr = data.BucketIterator.splits(\n",
    "    (train_data, valid_data, test_data),\n",
    "    batch_size = btch_size,\n",
    "    sort_within_batch = True,\n",
    "    device = device)"
   ]
  },
  {
   "cell_type": "markdown",
   "metadata": {
    "id": "WSOAlDZY0sWF"
   },
   "source": [
    "## Defining python sentiment analysis model\n",
    "To prepare the model and define its architecture, we are using a multi layer bidirectional rnn. We use nn.LSTM layers instead of normal nn.RNN layers to pass everything through an embedding layer which is just a representation of words in lower-dimensional space."
   ]
  },
  {
   "cell_type": "code",
   "execution_count": null,
   "metadata": {
    "id": "2FW6VELrUu9w"
   },
   "outputs": [],
   "source": [
    "import torch.nn as nn\n",
    "\n",
    "class RNN(nn.Module):\n",
    "    def __init__(self, word_limit, dimension_embedding, dimension_hidden, dimension_output, num_layers,\n",
    "                 bidirectional, dropout, pad_idx):\n",
    "\n",
    "        super().__init__()\n",
    "\n",
    "        self.embedding = nn.Embedding(word_limit, dimension_embedding, padding_idx = pad_idx)\n",
    "\n",
    "        self.rnn = nn.LSTM(dimension_embedding,\n",
    "                           dimension_hidden,\n",
    "                           num_layers=num_layers,\n",
    "                           bidirectional=bidirectional,\n",
    "                           dropout=dropout)\n",
    "\n",
    "        self.fc = nn.Linear(dimension_hidden * 2, dimension_output)\n",
    "\n",
    "        self.dropout = nn.Dropout(dropout)\n",
    "\n",
    "    def forward(self, text, len_txt):\n",
    "\n",
    "\n",
    "        embedded = self.dropout(self.embedding(text))\n",
    "\n",
    "\n",
    "        packed_embedded = nn.utils.rnn.pack_padded_sequence(embedded, len_txt.to('cpu'))\n",
    "\n",
    "        packed_output, (hidden, cell) = self.rnn(packed_embedded)\n",
    "\n",
    "        output, output_lengths = nn.utils.rnn.pad_packed_sequence(packed_output)\n",
    "\n",
    "\n",
    "        hidden = self.dropout(torch.cat((hidden[-2,:,:], hidden[-1,:,:]), dim = 1))\n",
    "\n",
    "        return self.fc(hidden)\n"
   ]
  },
  {
   "cell_type": "markdown",
   "metadata": {
    "id": "Z7ysZIfA1GWX"
   },
   "source": [
    "We define the parameters of the python sentiment analysis model and pass them to the model class instance just defined. The number of input parameters, the hidden layers, the output dimensions, and the throughput rate and bi-directionality booleans are defined. We also pass the pad token index from the vocabulary we created earlier."
   ]
  },
  {
   "cell_type": "code",
   "execution_count": null,
   "metadata": {
    "id": "0cfpV4fUUvAm"
   },
   "outputs": [],
   "source": [
    "dimension_input = len(txt.vocab)\n",
    "dimension_embedding = 100\n",
    "dimension_hddn = 256\n",
    "dimension_out = 1\n",
    "layers = 2\n",
    "bidirectional = True\n",
    "droupout = 0.5\n",
    "idx_pad = txt.vocab.stoi[txt.pad_token]\n",
    "\n",
    "model = RNN(dimension_input,\n",
    "            dimension_embedding,\n",
    "            dimension_hddn,\n",
    "            dimension_out,\n",
    "            layers,\n",
    "            bidirectional,\n",
    "            droupout,\n",
    "            idx_pad)"
   ]
  },
  {
   "cell_type": "markdown",
   "metadata": {
    "id": "ktKbMLJU11DG"
   },
   "source": [
    "Now let's print some details of the model. Get the number of trainable parameters in the model.\n",
    "\n",
    "We then obtain the pre-trained embedding weights and copy them into our model so that it doesn't need to learn the embeddings and can focus directly on the task at hand, which is to learn the sentiment associated with those embeddings.\n",
    "\n",
    "The pre-trained embedding weights will replace the initial weights."
   ]
  },
  {
   "cell_type": "code",
   "execution_count": null,
   "metadata": {
    "colab": {
     "base_uri": "https://localhost:8080/"
    },
    "id": "_jPpTvChUvCo",
    "outputId": "3585f512-d46d-47df-fb3f-96edadaa0b77"
   },
   "outputs": [
    {
     "name": "stdout",
     "output_type": "stream",
     "text": [
      "The model has 4,810,857 trainable parameters\n"
     ]
    }
   ],
   "source": [
    "def count_parameters(model):\n",
    "    return sum(p.numel() for p in model.parameters() if p.requires_grad)\n",
    "\n",
    "print(f'The model has {count_parameters(model):,} trainable parameters')"
   ]
  },
  {
   "cell_type": "code",
   "execution_count": null,
   "metadata": {
    "colab": {
     "base_uri": "https://localhost:8080/"
    },
    "id": "2TonARjWUvEz",
    "outputId": "960a4acf-69da-4de3-8842-93c44384b57e"
   },
   "outputs": [
    {
     "name": "stdout",
     "output_type": "stream",
     "text": [
      "torch.Size([25002, 100])\n"
     ]
    }
   ],
   "source": [
    "pretrained_embeddings = txt.vocab.vectors\n",
    "\n",
    "print(pretrained_embeddings.shape)"
   ]
  },
  {
   "cell_type": "code",
   "execution_count": null,
   "metadata": {
    "colab": {
     "base_uri": "https://localhost:8080/"
    },
    "id": "pR3JOGeLUvHC",
    "outputId": "bc291df9-391d-45a8-ac56-f9f8ae979ad3"
   },
   "outputs": [
    {
     "data": {
      "text/plain": [
       "tensor([[ 1.9269,  1.4873,  0.9007,  ...,  0.1233,  0.3499,  0.6173],\n",
       "        [ 0.7262,  0.0912, -0.3891,  ...,  0.0821,  0.4440, -0.7240],\n",
       "        [-0.0382, -0.2449,  0.7281,  ..., -0.1459,  0.8278,  0.2706],\n",
       "        ...,\n",
       "        [-0.0650,  0.0029,  0.6209,  ..., -0.2100, -0.6873,  0.6438],\n",
       "        [ 0.0766, -0.0666,  0.2242,  ..., -0.1401, -0.4067,  0.6296],\n",
       "        [ 0.2527,  0.1215,  0.2966,  ..., -0.0253, -0.6011,  0.8194]])"
      ]
     },
     "execution_count": 17,
     "metadata": {
      "tags": []
     },
     "output_type": "execute_result"
    }
   ],
   "source": [
    "model.embedding.weight.data.copy_(pretrained_embeddings)\n"
   ]
  },
  {
   "cell_type": "code",
   "execution_count": null,
   "metadata": {
    "colab": {
     "base_uri": "https://localhost:8080/"
    },
    "id": "mf7NFXmPUvKQ",
    "outputId": "881f0d71-c61f-43ed-8efa-ab7b397c4c0f"
   },
   "outputs": [
    {
     "name": "stdout",
     "output_type": "stream",
     "text": [
      "tensor([[ 0.0000,  0.0000,  0.0000,  ...,  0.0000,  0.0000,  0.0000],\n",
      "        [ 0.0000,  0.0000,  0.0000,  ...,  0.0000,  0.0000,  0.0000],\n",
      "        [-0.0382, -0.2449,  0.7281,  ..., -0.1459,  0.8278,  0.2706],\n",
      "        ...,\n",
      "        [-0.0650,  0.0029,  0.6209,  ..., -0.2100, -0.6873,  0.6438],\n",
      "        [ 0.0766, -0.0666,  0.2242,  ..., -0.1401, -0.4067,  0.6296],\n",
      "        [ 0.2527,  0.1215,  0.2966,  ..., -0.0253, -0.6011,  0.8194]])\n"
     ]
    }
   ],
   "source": [
    "unique_id = txt.vocab.stoi[txt.unk_token]\n",
    "\n",
    "model.embedding.weight.data[unique_id] = torch.zeros(dimension_embedding)\n",
    "model.embedding.weight.data[idx_pad] = torch.zeros(dimension_embedding)\n",
    "\n",
    "print(model.embedding.weight.data)"
   ]
  },
  {
   "cell_type": "markdown",
   "metadata": {
    "id": "GGUGaUTq2JrV"
   },
   "source": [
    "Now, we want to define some parameters of the model, i.e. the optimiser we want to use and the loss criteria we need. In order to make the model converge quickly, we have chosen the adam optimiser and the logistic loss function."
   ]
  },
  {
   "cell_type": "markdown",
   "metadata": {
    "id": "UCae2obT2OOR"
   },
   "source": [
    "## Training of the model\n",
    "\n",
    "We now begin the necessary functions for training and evaluation of sentiment analysis model.\n",
    "\n",
    "The first one is the binary accuracy function. We’ll use it for getting the accuracy of the model each time."
   ]
  },
  {
   "cell_type": "code",
   "execution_count": null,
   "metadata": {
    "id": "YjNuTfx6UvMA"
   },
   "outputs": [],
   "source": [
    "import torch.optim as optim\n",
    "\n",
    "optimizer = optim.Adam(model.parameters())"
   ]
  },
  {
   "cell_type": "code",
   "execution_count": null,
   "metadata": {
    "id": "1UUb9NFyfuFC"
   },
   "outputs": [],
   "source": [
    "criterion = nn.BCEWithLogitsLoss()\n",
    "\n",
    "model = model.to(device)\n",
    "criterion = criterion.to(device)"
   ]
  },
  {
   "cell_type": "code",
   "execution_count": null,
   "metadata": {
    "id": "hXGoFUYwfuHK"
   },
   "outputs": [],
   "source": [
    "def bin_acc(preds, y):\n",
    "\n",
    "    predictions = torch.round(torch.sigmoid(preds))\n",
    "    correct = (predictions == y).float()\n",
    "    acc = correct.sum() / len(correct)\n",
    "    return acc"
   ]
  },
  {
   "cell_type": "markdown",
   "metadata": {
    "id": "3gsv4LWN2jb-"
   },
   "source": [
    "We define the function for training and evaluating the models. We start by looping through the number of epochs and the number of iterations in each epoch according to the batch size. Then we pass the text to the model, get the predictions from it, calculate the loss for each iteration and finally backward propagate that loss."
   ]
  },
  {
   "cell_type": "code",
   "execution_count": null,
   "metadata": {
    "id": "8CRdK5PNfuLK"
   },
   "outputs": [],
   "source": [
    "def train(model, itr, optimizer, criterion):\n",
    "\n",
    "    epoch_loss = 0\n",
    "    epoch_acc = 0\n",
    "\n",
    "    model.train()\n",
    "\n",
    "    for i in itr:\n",
    "\n",
    "        optimizer.zero_grad()\n",
    "\n",
    "        text, len_txt = i.text\n",
    "\n",
    "        predictions = model(text, len_txt).squeeze(1)\n",
    "\n",
    "        loss = criterion(predictions, i.label)\n",
    "\n",
    "        acc = bin_acc(predictions, i.label)\n",
    "\n",
    "        loss.backward()\n",
    "\n",
    "        optimizer.step()\n",
    "\n",
    "        epoch_loss += loss.item()\n",
    "        epoch_acc += acc.item()\n",
    "\n",
    "    return epoch_loss / len(itr), epoch_acc / len(itr)"
   ]
  },
  {
   "cell_type": "code",
   "execution_count": null,
   "metadata": {
    "id": "2REmYimCUvN_"
   },
   "outputs": [],
   "source": [
    "def evaluate(model, itr, criterion):\n",
    "\n",
    "    epoch_loss = 0\n",
    "    epoch_acc = 0\n",
    "\n",
    "    model.eval()\n",
    "\n",
    "    with torch.no_grad():\n",
    "\n",
    "        for i in itr:\n",
    "\n",
    "            text, len_txt = i.text\n",
    "\n",
    "            predictions = model(text, len_txt).squeeze(1)\n",
    "\n",
    "            loss = criterion(predictions, i.label)\n",
    "\n",
    "            acc = bin_acc(predictions, i.label)\n",
    "\n",
    "            epoch_loss += loss.item()\n",
    "            epoch_acc += acc.item()\n",
    "\n",
    "    return epoch_loss / len(itr), epoch_acc / len(itr)"
   ]
  },
  {
   "cell_type": "markdown",
   "metadata": {
    "id": "Rn1xhuFc297Z"
   },
   "source": [
    "We build a helper function epoch_time for calculating the time each epoch takes to complete its run and print it.  \n",
    "We set the number of epochs to 5 and then begin our training."
   ]
  },
  {
   "cell_type": "code",
   "execution_count": null,
   "metadata": {
    "id": "r0B_0briUvP_"
   },
   "outputs": [],
   "source": [
    "import time\n",
    "\n",
    "def epoch_time(start_time, end_time):\n",
    "    used_time = end_time - start_time\n",
    "    used_mins = int(used_time / 60)\n",
    "    used_secs = int(used_time - (used_mins * 60))\n",
    "    return used_mins, used_secs"
   ]
  },
  {
   "cell_type": "code",
   "execution_count": null,
   "metadata": {
    "colab": {
     "base_uri": "https://localhost:8080/"
    },
    "id": "L2zpx4bBUvSv",
    "outputId": "42135121-4e3b-4ec6-c516-c5ce022858d8"
   },
   "outputs": [
    {
     "name": "stderr",
     "output_type": "stream",
     "text": [
      "\r",
      "100%|█████████▉| 398630/400000 [00:30<00:00, 25442.01it/s]"
     ]
    },
    {
     "name": "stdout",
     "output_type": "stream",
     "text": [
      "Epoch: 01 | Epoch Time: 0m 37s\n",
      "\tTrain Loss: 0.658 | Train Acc: 60.15%\n",
      "\t Val. Loss: 0.675 |  Val. Acc: 60.89%\n",
      "Epoch: 02 | Epoch Time: 0m 38s\n",
      "\tTrain Loss: 0.653 | Train Acc: 60.98%\n",
      "\t Val. Loss: 0.606 |  Val. Acc: 68.85%\n",
      "Epoch: 03 | Epoch Time: 0m 40s\n",
      "\tTrain Loss: 0.490 | Train Acc: 77.06%\n",
      "\t Val. Loss: 0.450 |  Val. Acc: 80.64%\n",
      "Epoch: 04 | Epoch Time: 0m 40s\n",
      "\tTrain Loss: 0.390 | Train Acc: 83.21%\n",
      "\t Val. Loss: 0.329 |  Val. Acc: 86.56%\n",
      "Epoch: 05 | Epoch Time: 0m 40s\n",
      "\tTrain Loss: 0.321 | Train Acc: 86.95%\n",
      "\t Val. Loss: 0.432 |  Val. Acc: 81.71%\n"
     ]
    }
   ],
   "source": [
    "num_epochs = 5\n",
    "\n",
    "best_valid_loss = float('inf')\n",
    "\n",
    "for epoch in range(num_epochs):\n",
    "\n",
    "    start_time = time.time()\n",
    "\n",
    "    train_loss, train_acc = train(model, train_itr, optimizer, criterion)\n",
    "    valid_loss, valid_acc = evaluate(model, valid_itr, criterion)\n",
    "\n",
    "    end_time = time.time()\n",
    "\n",
    "    epoch_mins, epoch_secs = epoch_time(start_time, end_time)\n",
    "\n",
    "    if valid_loss < best_valid_loss:\n",
    "        best_valid_loss = valid_loss\n",
    "        torch.save(model.state_dict(), 'tut2-model.pt')\n",
    "\n",
    "    print(f'Epoch: {epoch+1:02} | Epoch Time: {epoch_mins}m {epoch_secs}s')\n",
    "    print(f'\\tTrain Loss: {train_loss:.3f} | Train Acc: {train_acc*100:.2f}%')\n",
    "    print(f'\\t Val. Loss: {valid_loss:.3f} |  Val. Acc: {valid_acc*100:.2f}%')"
   ]
  },
  {
   "cell_type": "markdown",
   "metadata": {
    "id": "5RZrNsAA3I6k"
   },
   "source": [
    "## Testing sentiment analysis model\n",
    "\n",
    "We load the saved checkpoint of the model and test it on the test set."
   ]
  },
  {
   "cell_type": "code",
   "execution_count": null,
   "metadata": {
    "colab": {
     "base_uri": "https://localhost:8080/"
    },
    "id": "yshHY_M9UvVA",
    "outputId": "cbc8a986-5aa5-49ee-b5fa-8c84030ad291"
   },
   "outputs": [
    {
     "name": "stdout",
     "output_type": "stream",
     "text": [
      "Test Loss: 0.343 | Test Acc: 85.83%\n"
     ]
    }
   ],
   "source": [
    "model.load_state_dict(torch.load('tut2-model.pt'))\n",
    "\n",
    "test_loss, test_acc = evaluate(model, test_itr, criterion)\n",
    "\n",
    "print(f'Test Loss: {test_loss:.3f} | Test Acc: {test_acc*100:.2f}%')"
   ]
  },
  {
   "cell_type": "markdown",
   "metadata": {
    "id": "EOMYAmaX32ZB"
   },
   "source": [
    "We can also check the model on the data. The model is trained to classify film reviews as positive, negative and neutral, so we will pass the relevant data to it for checking.\n",
    "\n",
    "By defining another helper function that will print the sentiment of the comment based on the score that the model provides, we pass any data and test what does the model think about it."
   ]
  },
  {
   "cell_type": "code",
   "execution_count": null,
   "metadata": {
    "id": "XxOZnONkUvXM"
   },
   "outputs": [],
   "source": [
    "import spacy\n",
    "nlp = spacy.load('en_core_web_sm')\n",
    "\n",
    "def pred(model, sentence):\n",
    "    model.eval()\n",
    "    tokenized = [tok.text for tok in nlp.tokenizer(sentence)]\n",
    "    indexed = [txt.vocab.stoi[t] for t in tokenized]\n",
    "    length = [len(indexed)]\n",
    "    tensor = torch.LongTensor(indexed).to(device)\n",
    "    tensor = tensor.unsqueeze(1)\n",
    "    length_tensor = torch.LongTensor(length)\n",
    "    prediction = torch.sigmoid(model(tensor, length_tensor))\n",
    "    return prediction.item()"
   ]
  },
  {
   "cell_type": "code",
   "execution_count": null,
   "metadata": {
    "id": "xqWqP_-ZSZgK"
   },
   "outputs": [],
   "source": [
    "sent=[\"positive\",\"neutral\",\"negative\"]\n",
    "def print_sent(x):\n",
    "  if (x<0.3): print(sent[0])\n",
    "  elif (x>0.3 and x<0.7): print(sent[1])\n",
    "  else: print(sent[2])"
   ]
  },
  {
   "cell_type": "markdown",
   "metadata": {
    "id": "M2dmX7Rf4JPu"
   },
   "source": [
    "## Python Sentiment Analysis Output"
   ]
  },
  {
   "cell_type": "code",
   "execution_count": null,
   "metadata": {
    "colab": {
     "base_uri": "https://localhost:8080/"
    },
    "id": "Cnunsr_KUvY_",
    "outputId": "960fa77d-6f09-4f4e-8ab5-f98e6890f042"
   },
   "outputs": [
    {
     "name": "stdout",
     "output_type": "stream",
     "text": [
      "neutral\n"
     ]
    }
   ],
   "source": [
    "print_sent(pred(model, \"This film was average\"))\n"
   ]
  },
  {
   "cell_type": "code",
   "execution_count": null,
   "metadata": {
    "colab": {
     "base_uri": "https://localhost:8080/"
    },
    "id": "U9t-ICIFUvcK",
    "outputId": "e88fec86-5396-4629-bbbe-48691e8d1a2b"
   },
   "outputs": [
    {
     "name": "stdout",
     "output_type": "stream",
     "text": [
      "negative\n"
     ]
    }
   ],
   "source": [
    "print_sent(pred(model, \"This film is horrible\"))"
   ]
  },
  {
   "cell_type": "code",
   "execution_count": null,
   "metadata": {
    "colab": {
     "base_uri": "https://localhost:8080/"
    },
    "id": "GivrFUOvUveI",
    "outputId": "abad5b58-8221-4866-d3e4-d3ccba4e2650"
   },
   "outputs": [
    {
     "name": "stdout",
     "output_type": "stream",
     "text": [
      "positive\n"
     ]
    }
   ],
   "source": [
    "print_sent(pred(model, \"This film was great\"))"
   ]
  },
  {
   "cell_type": "code",
   "execution_count": null,
   "metadata": {
    "colab": {
     "base_uri": "https://localhost:8080/"
    },
    "id": "r5HEh97BUvgQ",
    "outputId": "a3ad5906-f80c-4322-b9a8-76023121009a"
   },
   "outputs": [
    {
     "name": "stdout",
     "output_type": "stream",
     "text": [
      "positive\n"
     ]
    }
   ],
   "source": [
    "print_sent(pred(model, \"This was the best movie i have seen in a while. The cast was great and the script was awesome, and the direction just blew my mind\"))"
   ]
  },
  {
   "cell_type": "code",
   "execution_count": null,
   "metadata": {
    "colab": {
     "base_uri": "https://localhost:8080/"
    },
    "id": "Jtw6O1IaUvi7",
    "outputId": "9fec7015-bd88-47b3-9133-34b65c05d4ad"
   },
   "outputs": [
    {
     "name": "stdout",
     "output_type": "stream",
     "text": [
      "negative\n"
     ]
    }
   ],
   "source": [
    "print_sent(pred(model, \"the cast was dumb\"))"
   ]
  },
  {
   "cell_type": "code",
   "execution_count": null,
   "metadata": {
    "colab": {
     "base_uri": "https://localhost:8080/"
    },
    "id": "16VdOfGIUvlU",
    "outputId": "9fe5b29e-2bb5-4f95-cc39-806a5e877291"
   },
   "outputs": [
    {
     "name": "stdout",
     "output_type": "stream",
     "text": [
      "negative\n"
     ]
    }
   ],
   "source": [
    "print_sent(pred(model, \"Why does this fil exist\"))"
   ]
  },
  {
   "cell_type": "markdown",
   "metadata": {},
   "source": [
    "##### plotting the Test results against the validation results"
   ]
  },
  {
   "cell_type": "code",
   "execution_count": 23,
   "metadata": {},
   "outputs": [
    {
     "data": {
      "text/plain": [
       "<matplotlib.legend.Legend at 0x7f9258f50850>"
      ]
     },
     "execution_count": 23,
     "metadata": {},
     "output_type": "execute_result"
    },
    {
     "data": {
      "image/png": "[encoded data removed]",
      "text/plain": [
       "<Figure size 432x288 with 1 Axes>"
      ]
     },
     "metadata": {
      "needs_background": "light"
     },
     "output_type": "display_data"
    }
   ],
   "source": [
    "x = ['Train Loss', 'Val. Loss']\n",
    "y1 = [0.658, 0.675]\n",
    "y2 = [0.653, 0.606]\n",
    "y3 = [0.490, 0.450]\n",
    "y4 = [0.390, 0.329]\n",
    "y5 = [0.321, 0.432]\n",
    "\n",
    "plt.plot (x, y1, 'g', label='Epoch 1', linewidth=5) \n",
    "plt.plot (x, y2, 'c', label='Epoch 2', linewidth=5) \n",
    "plt.plot (x, y3, 'k',label='Epoch 3', linewidth=5) \n",
    "plt.plot (x, y4, 'y',label='Epoch 4', linewidth=5)\n",
    "plt.plot(x,  y5, 'b', label='Epoch 5', linewidth=5)\n",
    "\n",
    "plt.title('Total Loss')\n",
    "plt.ylabel('Loss Amount' )\n",
    "plt.xlabel('Loss')\n",
    "\n",
    "plt.legend(bbox_to_anchor=(1.02, 1), loc='upper left', borderaxespad=0)\n",
    "\n",
    "    \n",
    "    \n",
    "    \n",
    "   "
   ]
  },
  {
   "cell_type": "code",
   "execution_count": 22,
   "metadata": {},
   "outputs": [
    {
     "data": {
      "text/plain": [
       "<matplotlib.legend.Legend at 0x7f9258f67fd0>"
      ]
     },
     "execution_count": 22,
     "metadata": {},
     "output_type": "execute_result"
    },
    {
     "data": {
      "image/png": "[encoded data removed]",
      "text/plain": [
       "<Figure size 432x288 with 1 Axes>"
      ]
     },
     "metadata": {
      "needs_background": "light"
     },
     "output_type": "display_data"
    }
   ],
   "source": [
    "x = ['Train Acc', 'Val. Acc']\n",
    "\n",
    "y1 = [60.15, 60.89]\n",
    "y2 = [60.98, 68.85]\n",
    "y3 = [77.06, 80.64]\n",
    "y4 = [83.21, 86.56]\n",
    "y5 = [86.95, 81.71]\n",
    "\n",
    "plt.plot (x, y1, 'g', label='Epoch 1', linewidth=5) \n",
    "plt.plot (x, y2, 'c', label='Epoch 2', linewidth=5)\n",
    "plt.plot (x, y3, 'k', label='Epoch 3', linewidth=5)\n",
    "plt.plot (x, y4, 'y', label='Epoch 4', linewidth=5) \n",
    "plt.plot (x, y5, 'b', label='Epoch 5', linewidth=5)\n",
    "plt.title('Accuracy Percentage')\n",
    "plt.ylabel('Percentage') \n",
    "plt.xlabel('Accuracy')\n",
    "plt.legend(bbox_to_anchor=(1.02, 1), loc='upper left', borderaxespad=0)"
   ]
  },
  {
   "cell_type": "markdown",
   "metadata": {
    "id": "i-j2mibl4U_8"
   },
   "source": [
    "# Summary\n",
    "\n",
    "We have successfully developed a Python Sentiment Analysis model based on lstm technique which is very robust and accurate. As discussed earlier, there are many use cases for sentiment analysis and we can use it as per the need. Similarly, we can change the dataset and train it on any other type of data as required. We can use this sentiment analysis model in every possible way."
   ]
  }
 ],
 "metadata": {
  "accelerator": "GPU",
  "colab": {
   "provenance": []
  },
  "kernelspec": {
   "display_name": "Python 3 (ipykernel)",
   "language": "python",
   "name": "python3"
  },
  "language_info": {
   "codemirror_mode": {
    "name": "ipython",
    "version": 3
   },
   "file_extension": ".py",
   "mimetype": "text/x-python",
   "name": "python",
   "nbconvert_exporter": "python",
   "pygments_lexer": "ipython3",
   "version": "3.9.7"
  }
 },
 "nbformat": 4,
 "nbformat_minor": 1
}
