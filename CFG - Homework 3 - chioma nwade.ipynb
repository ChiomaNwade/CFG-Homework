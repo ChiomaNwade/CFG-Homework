{
 "cells": [
  {
   "cell_type": "code",
   "execution_count": 63,
   "id": "7f14f01d",
   "metadata": {},
   "outputs": [],
   "source": [
    "import pandas as pd\n",
    "import matplotlib.pyplot as plt\n",
    "import numpy as np\n",
    "df = pd.read_csv('https://raw.githubusercontent.com/mwaskom/seaborn-data/master/titanic.csv')\n",
    "\n",
    "#NOTE: I did not drop na or clean the data in this assignment as confirmed earlier"
   ]
  },
  {
   "cell_type": "code",
   "execution_count": 64,
   "id": "fc1f3d93",
   "metadata": {},
   "outputs": [
    {
     "data": {
      "text/html": [
       "<div>\n",
       "<style scoped>\n",
       "    .dataframe tbody tr th:only-of-type {\n",
       "        vertical-align: middle;\n",
       "    }\n",
       "\n",
       "    .dataframe tbody tr th {\n",
       "        vertical-align: top;\n",
       "    }\n",
       "\n",
       "    .dataframe thead th {\n",
       "        text-align: right;\n",
       "    }\n",
       "</style>\n",
       "<table border=\"1\" class=\"dataframe\">\n",
       "  <thead>\n",
       "    <tr style=\"text-align: right;\">\n",
       "      <th></th>\n",
       "      <th>survived</th>\n",
       "      <th>pclass</th>\n",
       "      <th>sex</th>\n",
       "      <th>age</th>\n",
       "      <th>sibsp</th>\n",
       "      <th>parch</th>\n",
       "      <th>fare</th>\n",
       "      <th>embarked</th>\n",
       "      <th>class</th>\n",
       "      <th>who</th>\n",
       "      <th>adult_male</th>\n",
       "      <th>deck</th>\n",
       "      <th>embark_town</th>\n",
       "      <th>alive</th>\n",
       "      <th>alone</th>\n",
       "    </tr>\n",
       "  </thead>\n",
       "  <tbody>\n",
       "    <tr>\n",
       "      <th>0</th>\n",
       "      <td>0</td>\n",
       "      <td>3</td>\n",
       "      <td>male</td>\n",
       "      <td>22.0</td>\n",
       "      <td>1</td>\n",
       "      <td>0</td>\n",
       "      <td>7.2500</td>\n",
       "      <td>S</td>\n",
       "      <td>Third</td>\n",
       "      <td>man</td>\n",
       "      <td>True</td>\n",
       "      <td>NaN</td>\n",
       "      <td>Southampton</td>\n",
       "      <td>no</td>\n",
       "      <td>False</td>\n",
       "    </tr>\n",
       "    <tr>\n",
       "      <th>1</th>\n",
       "      <td>1</td>\n",
       "      <td>1</td>\n",
       "      <td>female</td>\n",
       "      <td>38.0</td>\n",
       "      <td>1</td>\n",
       "      <td>0</td>\n",
       "      <td>71.2833</td>\n",
       "      <td>C</td>\n",
       "      <td>First</td>\n",
       "      <td>woman</td>\n",
       "      <td>False</td>\n",
       "      <td>C</td>\n",
       "      <td>Cherbourg</td>\n",
       "      <td>yes</td>\n",
       "      <td>False</td>\n",
       "    </tr>\n",
       "    <tr>\n",
       "      <th>2</th>\n",
       "      <td>1</td>\n",
       "      <td>3</td>\n",
       "      <td>female</td>\n",
       "      <td>26.0</td>\n",
       "      <td>0</td>\n",
       "      <td>0</td>\n",
       "      <td>7.9250</td>\n",
       "      <td>S</td>\n",
       "      <td>Third</td>\n",
       "      <td>woman</td>\n",
       "      <td>False</td>\n",
       "      <td>NaN</td>\n",
       "      <td>Southampton</td>\n",
       "      <td>yes</td>\n",
       "      <td>True</td>\n",
       "    </tr>\n",
       "    <tr>\n",
       "      <th>3</th>\n",
       "      <td>1</td>\n",
       "      <td>1</td>\n",
       "      <td>female</td>\n",
       "      <td>35.0</td>\n",
       "      <td>1</td>\n",
       "      <td>0</td>\n",
       "      <td>53.1000</td>\n",
       "      <td>S</td>\n",
       "      <td>First</td>\n",
       "      <td>woman</td>\n",
       "      <td>False</td>\n",
       "      <td>C</td>\n",
       "      <td>Southampton</td>\n",
       "      <td>yes</td>\n",
       "      <td>False</td>\n",
       "    </tr>\n",
       "    <tr>\n",
       "      <th>4</th>\n",
       "      <td>0</td>\n",
       "      <td>3</td>\n",
       "      <td>male</td>\n",
       "      <td>35.0</td>\n",
       "      <td>0</td>\n",
       "      <td>0</td>\n",
       "      <td>8.0500</td>\n",
       "      <td>S</td>\n",
       "      <td>Third</td>\n",
       "      <td>man</td>\n",
       "      <td>True</td>\n",
       "      <td>NaN</td>\n",
       "      <td>Southampton</td>\n",
       "      <td>no</td>\n",
       "      <td>True</td>\n",
       "    </tr>\n",
       "  </tbody>\n",
       "</table>\n",
       "</div>"
      ],
      "text/plain": [
       "   survived  pclass     sex   age  sibsp  parch     fare embarked  class  \\\n",
       "0         0       3    male  22.0      1      0   7.2500        S  Third   \n",
       "1         1       1  female  38.0      1      0  71.2833        C  First   \n",
       "2         1       3  female  26.0      0      0   7.9250        S  Third   \n",
       "3         1       1  female  35.0      1      0  53.1000        S  First   \n",
       "4         0       3    male  35.0      0      0   8.0500        S  Third   \n",
       "\n",
       "     who  adult_male deck  embark_town alive  alone  \n",
       "0    man        True  NaN  Southampton    no  False  \n",
       "1  woman       False    C    Cherbourg   yes  False  \n",
       "2  woman       False  NaN  Southampton   yes   True  \n",
       "3  woman       False    C  Southampton   yes  False  \n",
       "4    man        True  NaN  Southampton    no   True  "
      ]
     },
     "execution_count": 64,
     "metadata": {},
     "output_type": "execute_result"
    }
   ],
   "source": [
    "df.head()"
   ]
  },
  {
   "cell_type": "code",
   "execution_count": 65,
   "id": "548adb99",
   "metadata": {
    "scrolled": true
   },
   "outputs": [
    {
     "name": "stdout",
     "output_type": "stream",
     "text": [
      "<class 'pandas.core.frame.DataFrame'>\n",
      "RangeIndex: 891 entries, 0 to 890\n",
      "Data columns (total 15 columns):\n",
      " #   Column       Non-Null Count  Dtype  \n",
      "---  ------       --------------  -----  \n",
      " 0   survived     891 non-null    int64  \n",
      " 1   pclass       891 non-null    int64  \n",
      " 2   sex          891 non-null    object \n",
      " 3   age          714 non-null    float64\n",
      " 4   sibsp        891 non-null    int64  \n",
      " 5   parch        891 non-null    int64  \n",
      " 6   fare         891 non-null    float64\n",
      " 7   embarked     889 non-null    object \n",
      " 8   class        891 non-null    object \n",
      " 9   who          891 non-null    object \n",
      " 10  adult_male   891 non-null    bool   \n",
      " 11  deck         203 non-null    object \n",
      " 12  embark_town  889 non-null    object \n",
      " 13  alive        891 non-null    object \n",
      " 14  alone        891 non-null    bool   \n",
      "dtypes: bool(2), float64(2), int64(4), object(7)\n",
      "memory usage: 92.4+ KB\n"
     ]
    }
   ],
   "source": [
    "df.info()"
   ]
  },
  {
   "cell_type": "markdown",
   "id": "dab66dfe",
   "metadata": {},
   "source": [
    "## Question 1: Proportion of Male to Female"
   ]
  },
  {
   "cell_type": "code",
   "execution_count": 66,
   "id": "e07a594f",
   "metadata": {},
   "outputs": [
    {
     "data": {
      "image/png": "[encoded data removed]",
      "text/plain": [
       "<Figure size 432x432 with 1 Axes>"
      ]
     },
     "metadata": {},
     "output_type": "display_data"
    }
   ],
   "source": [
    "sex_counts = df['sex'].value_counts()\n",
    "\n",
    "# Create a pie chart\n",
    "plt.figure(figsize=(6, 6))\n",
    "plt.pie(sex_counts, labels=sex_counts.index, autopct='%1.1f%%', startangle=140, colors=['green', 'orange'])\n",
    "plt.legend(loc='lower right', labels=sex_counts.index)\n",
    "plt.title('Proportion of Male to Female')\n",
    "plt.axis('equal')  # Equal aspect ratio ensures that pie is drawn as a circle.\n",
    "plt.show()\n",
    "\n",
    "\n"
   ]
  },
  {
   "cell_type": "markdown",
   "id": "6f08a0ef",
   "metadata": {},
   "source": [
    "## Question 2: Proportion of passengers in each class"
   ]
  },
  {
   "cell_type": "code",
   "execution_count": 67,
   "id": "c17e2230",
   "metadata": {},
   "outputs": [
    {
     "name": "stdout",
     "output_type": "stream",
     "text": [
      "['Third' 'First' 'Second']\n"
     ]
    }
   ],
   "source": [
    "# Find unique values of a column\n",
    "print(df['class'].unique())"
   ]
  },
  {
   "cell_type": "code",
   "execution_count": 68,
   "id": "3277e5f4",
   "metadata": {},
   "outputs": [
    {
     "data": {
      "image/png": "[encoded data removed]",
      "text/plain": [
       "<Figure size 432x432 with 1 Axes>"
      ]
     },
     "metadata": {},
     "output_type": "display_data"
    }
   ],
   "source": [
    "class_category = df['class'].value_counts()\n",
    "\n",
    "# Create a pie chart\n",
    "plt.figure(figsize=(6, 6))\n",
    "plt.pie(class_category, labels=class_category.index, autopct='%1.1f%%', startangle=140, colors=['green', 'orange','blue'])\n",
    "plt.legend(loc='lower right', labels=class_category.index)\n",
    "plt.title('Proportion of passengers in each class')\n",
    "plt.axis('equal')  # Equal aspect ratio ensures that pie is drawn as a circle.\n",
    "plt.show()\n"
   ]
  },
  {
   "cell_type": "markdown",
   "id": "dc5ef778",
   "metadata": {},
   "source": [
    "## Question 2: Relationship between age and fare"
   ]
  },
  {
   "cell_type": "code",
   "execution_count": 69,
   "id": "29d786b9",
   "metadata": {},
   "outputs": [
    {
     "data": {
      "image/png": "[encoded data removed]",
      "text/plain": [
       "<Figure size 576x432 with 1 Axes>"
      ]
     },
     "metadata": {
      "needs_background": "light"
     },
     "output_type": "display_data"
    }
   ],
   "source": [
    "plt.figure(figsize=(8, 6))\n",
    "plt.scatter(df['age'], df['fare'], alpha=0.5)  # 'alpha' controls the transparency of the points\n",
    "plt.title('Relationship between Age and Fare')\n",
    "plt.xlabel('Age')\n",
    "plt.ylabel('Fare')\n",
    "plt.grid(True)\n",
    "plt.show()"
   ]
  },
  {
   "cell_type": "markdown",
   "id": "ed45e618",
   "metadata": {},
   "source": [
    "### For majority of the passengers regardless of their ages, the fares are mostly below 100. "
   ]
  },
  {
   "cell_type": "code",
   "execution_count": 70,
   "id": "78b6c702",
   "metadata": {},
   "outputs": [
    {
     "name": "stdout",
     "output_type": "stream",
     "text": [
      "Correlation coefficient between Age and Fare: 0.0960666917690389\n"
     ]
    }
   ],
   "source": [
    "correlation = df['age'].corr(df['fare'])\n",
    "print(\"Correlation coefficient between Age and Fare:\", correlation)"
   ]
  },
  {
   "cell_type": "markdown",
   "id": "3eb43db2",
   "metadata": {},
   "source": [
    "### We can also see that the correlation is 9.6% which is very low and not significant enough. This goes to say that age is not a determinant of the class fare"
   ]
  },
  {
   "cell_type": "code",
   "execution_count": 71,
   "id": "38809f26",
   "metadata": {},
   "outputs": [
    {
     "data": {
      "image/png": "[encoded data removed]",
      "text/plain": [
       "<Figure size 432x432 with 3 Axes>"
      ]
     },
     "metadata": {
      "needs_background": "light"
     },
     "output_type": "display_data"
    }
   ],
   "source": [
    "import seaborn as sns\n",
    "sns.jointplot(data=df, x='age', y='fare', kind='hex', gridsize=20)\n",
    "plt.show()"
   ]
  },
  {
   "cell_type": "code",
   "execution_count": 72,
   "id": "a21d106a",
   "metadata": {},
   "outputs": [
    {
     "name": "stdout",
     "output_type": "stream",
     "text": [
      "Most common age: 24.0\n"
     ]
    }
   ],
   "source": [
    "most_common_age = df['age'].mode().values[0]\n",
    "\n",
    "print(\"Most common age:\", most_common_age)\n"
   ]
  },
  {
   "cell_type": "code",
   "execution_count": null,
   "id": "06ecca67",
   "metadata": {},
   "outputs": [],
   "source": [
    "#The distribution of age looks more normal than fare which is left skewed"
   ]
  },
  {
   "cell_type": "markdown",
   "id": "a3bcfeba",
   "metadata": {},
   "source": [
    "### we can see that in line with the plot, the most occuring age in the dataset is 24.0, which is around where the density is darkest. Apparently, from around ages 15 to 40, is the age for most of the customers who were on this ship."
   ]
  },
  {
   "cell_type": "code",
   "execution_count": 73,
   "id": "ae45b3ad",
   "metadata": {},
   "outputs": [
    {
     "data": {
      "text/plain": [
       "512.3292"
      ]
     },
     "execution_count": 73,
     "metadata": {},
     "output_type": "execute_result"
    }
   ],
   "source": [
    "# Find the index where the fare is the highest\n",
    "df['fare'].max()\n"
   ]
  },
  {
   "cell_type": "markdown",
   "id": "aecdc150",
   "metadata": {},
   "source": [
    "\n",
    "\n",
    "## Question 4 "
   ]
  },
  {
   "cell_type": "code",
   "execution_count": 74,
   "id": "6567068f",
   "metadata": {},
   "outputs": [
    {
     "data": {
      "image/png": "[encoded data removed]",
      "text/plain": [
       "<Figure size 432x432 with 1 Axes>"
      ]
     },
     "metadata": {},
     "output_type": "display_data"
    }
   ],
   "source": [
    "#Proportion of survived to not survived \n",
    "\n",
    "# Mapping for survived column\n",
    "survival_mapping = {1: \"Survived\", 0: \"Not Survived\"}\n",
    "df['survived'] = df['survived'].map(survival_mapping)\n",
    "\n",
    "survival_counts = df['survived'].value_counts()\n",
    "\n",
    "# Create a pie chart\n",
    "plt.figure(figsize=(6, 6))\n",
    "plt.pie(survival_counts, labels=survival_counts.index, autopct='%1.1f%%', startangle=140, colors=['green', 'orange'])\n",
    "plt.legend(loc='lower right', labels=survival_counts.index)\n",
    "plt.title('Proportion of survived to Not survived')\n",
    "plt.axis('equal')  # Equal aspect ratio ensures that pie is drawn as a circle.\n",
    "plt.show()\n"
   ]
  },
  {
   "cell_type": "markdown",
   "id": "cccb5267",
   "metadata": {},
   "source": [
    "\n",
    "\n",
    "### Majority of the people who were on this ship did not survive. \n"
   ]
  },
  {
   "cell_type": "code",
   "execution_count": 75,
   "id": "721181e1",
   "metadata": {},
   "outputs": [
    {
     "data": {
      "image/png": "[encoded data removed]",
      "text/plain": [
       "<Figure size 1080x360 with 2 Axes>"
      ]
     },
     "metadata": {
      "needs_background": "light"
     },
     "output_type": "display_data"
    }
   ],
   "source": [
    "# Create bar charts\n",
    "#For sex \n",
    "plt.figure(figsize=(15, 5))\n",
    "\n",
    "\n",
    "plt.subplot(1, 3, 2)\n",
    "sns.countplot(data=df, x='sex', hue='survived')\n",
    "plt.title(\"Survival Count by Sex\")\n",
    "plt.xlabel(\"Sex\")\n",
    "plt.ylabel(\"Count\")\n",
    "\n",
    "\n",
    "#For class\n",
    "plt.subplot(1, 3, 3)\n",
    "sns.countplot(data=df, x='class', hue='survived')\n",
    "plt.title(\"Survival Count by Class\")\n",
    "plt.xlabel(\"Class\")\n",
    "plt.ylabel(\"Count\")\n",
    "\n",
    "plt.tight_layout()\n",
    "plt.show()\n",
    "\n",
    "\n",
    "\n"
   ]
  },
  {
   "cell_type": "markdown",
   "id": "63f91250",
   "metadata": {},
   "source": [
    "### For Sex, The proportion of the female who survived is more than the male. You can confirm by viewing the percentages below.\n",
    "### while for Class, those in first class survived the most. "
   ]
  },
  {
   "cell_type": "code",
   "execution_count": null,
   "id": "afa59860",
   "metadata": {},
   "outputs": [],
   "source": [
    "#Sex"
   ]
  },
  {
   "cell_type": "code",
   "execution_count": 76,
   "id": "d8648b00",
   "metadata": {},
   "outputs": [
    {
     "data": {
      "text/html": [
       "<div>\n",
       "<style scoped>\n",
       "    .dataframe tbody tr th:only-of-type {\n",
       "        vertical-align: middle;\n",
       "    }\n",
       "\n",
       "    .dataframe tbody tr th {\n",
       "        vertical-align: top;\n",
       "    }\n",
       "\n",
       "    .dataframe thead th {\n",
       "        text-align: right;\n",
       "    }\n",
       "</style>\n",
       "<table border=\"1\" class=\"dataframe\">\n",
       "  <thead>\n",
       "    <tr style=\"text-align: right;\">\n",
       "      <th>survived</th>\n",
       "      <th>Not Survived</th>\n",
       "      <th>Survived</th>\n",
       "    </tr>\n",
       "    <tr>\n",
       "      <th>sex</th>\n",
       "      <th></th>\n",
       "      <th></th>\n",
       "    </tr>\n",
       "  </thead>\n",
       "  <tbody>\n",
       "    <tr>\n",
       "      <th>female</th>\n",
       "      <td>81</td>\n",
       "      <td>233</td>\n",
       "    </tr>\n",
       "    <tr>\n",
       "      <th>male</th>\n",
       "      <td>468</td>\n",
       "      <td>109</td>\n",
       "    </tr>\n",
       "  </tbody>\n",
       "</table>\n",
       "</div>"
      ],
      "text/plain": [
       "survived  Not Survived  Survived\n",
       "sex                             \n",
       "female              81       233\n",
       "male               468       109"
      ]
     },
     "execution_count": 76,
     "metadata": {},
     "output_type": "execute_result"
    }
   ],
   "source": [
    "sex_survival_counts = df.groupby(['sex', 'survived']).size().unstack()\n",
    "sex_survival_counts"
   ]
  },
  {
   "cell_type": "code",
   "execution_count": 77,
   "id": "93d6266a",
   "metadata": {
    "scrolled": true
   },
   "outputs": [
    {
     "data": {
      "text/html": [
       "<div>\n",
       "<style scoped>\n",
       "    .dataframe tbody tr th:only-of-type {\n",
       "        vertical-align: middle;\n",
       "    }\n",
       "\n",
       "    .dataframe tbody tr th {\n",
       "        vertical-align: top;\n",
       "    }\n",
       "\n",
       "    .dataframe thead th {\n",
       "        text-align: right;\n",
       "    }\n",
       "</style>\n",
       "<table border=\"1\" class=\"dataframe\">\n",
       "  <thead>\n",
       "    <tr style=\"text-align: right;\">\n",
       "      <th>survived</th>\n",
       "      <th>Not Survived</th>\n",
       "      <th>Survived</th>\n",
       "    </tr>\n",
       "    <tr>\n",
       "      <th>sex</th>\n",
       "      <th></th>\n",
       "      <th></th>\n",
       "    </tr>\n",
       "  </thead>\n",
       "  <tbody>\n",
       "    <tr>\n",
       "      <th>female</th>\n",
       "      <td>0.257962</td>\n",
       "      <td>0.742038</td>\n",
       "    </tr>\n",
       "    <tr>\n",
       "      <th>male</th>\n",
       "      <td>0.811092</td>\n",
       "      <td>0.188908</td>\n",
       "    </tr>\n",
       "  </tbody>\n",
       "</table>\n",
       "</div>"
      ],
      "text/plain": [
       "survived  Not Survived  Survived\n",
       "sex                             \n",
       "female        0.257962  0.742038\n",
       "male          0.811092  0.188908"
      ]
     },
     "execution_count": 77,
     "metadata": {},
     "output_type": "execute_result"
    }
   ],
   "source": [
    "sex_survival_proportions = sex_survival_counts.div(sex_survival_counts.sum(axis=1), axis=0)\n",
    "sex_survival_proportions"
   ]
  },
  {
   "cell_type": "code",
   "execution_count": null,
   "id": "a978f4c7",
   "metadata": {},
   "outputs": [],
   "source": [
    "#Class"
   ]
  },
  {
   "cell_type": "code",
   "execution_count": 78,
   "id": "12681332",
   "metadata": {},
   "outputs": [
    {
     "data": {
      "text/html": [
       "<div>\n",
       "<style scoped>\n",
       "    .dataframe tbody tr th:only-of-type {\n",
       "        vertical-align: middle;\n",
       "    }\n",
       "\n",
       "    .dataframe tbody tr th {\n",
       "        vertical-align: top;\n",
       "    }\n",
       "\n",
       "    .dataframe thead th {\n",
       "        text-align: right;\n",
       "    }\n",
       "</style>\n",
       "<table border=\"1\" class=\"dataframe\">\n",
       "  <thead>\n",
       "    <tr style=\"text-align: right;\">\n",
       "      <th>survived</th>\n",
       "      <th>Not Survived</th>\n",
       "      <th>Survived</th>\n",
       "    </tr>\n",
       "    <tr>\n",
       "      <th>class</th>\n",
       "      <th></th>\n",
       "      <th></th>\n",
       "    </tr>\n",
       "  </thead>\n",
       "  <tbody>\n",
       "    <tr>\n",
       "      <th>First</th>\n",
       "      <td>80</td>\n",
       "      <td>136</td>\n",
       "    </tr>\n",
       "    <tr>\n",
       "      <th>Second</th>\n",
       "      <td>97</td>\n",
       "      <td>87</td>\n",
       "    </tr>\n",
       "    <tr>\n",
       "      <th>Third</th>\n",
       "      <td>372</td>\n",
       "      <td>119</td>\n",
       "    </tr>\n",
       "  </tbody>\n",
       "</table>\n",
       "</div>"
      ],
      "text/plain": [
       "survived  Not Survived  Survived\n",
       "class                           \n",
       "First               80       136\n",
       "Second              97        87\n",
       "Third              372       119"
      ]
     },
     "execution_count": 78,
     "metadata": {},
     "output_type": "execute_result"
    }
   ],
   "source": [
    "class_survival_counts = df.groupby(['class', 'survived']).size().unstack()\n",
    "class_survival_counts"
   ]
  },
  {
   "cell_type": "code",
   "execution_count": 79,
   "id": "6bf737a8",
   "metadata": {},
   "outputs": [
    {
     "data": {
      "text/html": [
       "<div>\n",
       "<style scoped>\n",
       "    .dataframe tbody tr th:only-of-type {\n",
       "        vertical-align: middle;\n",
       "    }\n",
       "\n",
       "    .dataframe tbody tr th {\n",
       "        vertical-align: top;\n",
       "    }\n",
       "\n",
       "    .dataframe thead th {\n",
       "        text-align: right;\n",
       "    }\n",
       "</style>\n",
       "<table border=\"1\" class=\"dataframe\">\n",
       "  <thead>\n",
       "    <tr style=\"text-align: right;\">\n",
       "      <th>survived</th>\n",
       "      <th>Not Survived</th>\n",
       "      <th>Survived</th>\n",
       "    </tr>\n",
       "    <tr>\n",
       "      <th>class</th>\n",
       "      <th></th>\n",
       "      <th></th>\n",
       "    </tr>\n",
       "  </thead>\n",
       "  <tbody>\n",
       "    <tr>\n",
       "      <th>First</th>\n",
       "      <td>0.370370</td>\n",
       "      <td>0.629630</td>\n",
       "    </tr>\n",
       "    <tr>\n",
       "      <th>Second</th>\n",
       "      <td>0.527174</td>\n",
       "      <td>0.472826</td>\n",
       "    </tr>\n",
       "    <tr>\n",
       "      <th>Third</th>\n",
       "      <td>0.757637</td>\n",
       "      <td>0.242363</td>\n",
       "    </tr>\n",
       "  </tbody>\n",
       "</table>\n",
       "</div>"
      ],
      "text/plain": [
       "survived  Not Survived  Survived\n",
       "class                           \n",
       "First         0.370370  0.629630\n",
       "Second        0.527174  0.472826\n",
       "Third         0.757637  0.242363"
      ]
     },
     "execution_count": 79,
     "metadata": {},
     "output_type": "execute_result"
    }
   ],
   "source": [
    "class_survival_proportions = class_survival_counts.div(class_survival_counts.sum(axis=1), axis=0)\n",
    "class_survival_proportions"
   ]
  },
  {
   "cell_type": "code",
   "execution_count": 80,
   "id": "601ad0e0",
   "metadata": {},
   "outputs": [
    {
     "name": "stdout",
     "output_type": "stream",
     "text": [
      "80.0\n",
      "0.42\n"
     ]
    }
   ],
   "source": [
    "#For age, The actual age range, tying to bin the ages for the chart to be more useful. \n",
    "\n",
    "print(df['age'].max())\n",
    "print(df['age'].min())"
   ]
  },
  {
   "cell_type": "code",
   "execution_count": 81,
   "id": "ace68808",
   "metadata": {},
   "outputs": [
    {
     "data": {
      "image/png": "[encoded data removed]",
      "text/plain": [
       "<Figure size 864x360 with 1 Axes>"
      ]
     },
     "metadata": {
      "needs_background": "light"
     },
     "output_type": "display_data"
    }
   ],
   "source": [
    "# Bin the age column into 20 age groups\n",
    "df['age_group'] = pd.cut(df['age'], bins=10)\n",
    "\n",
    "# Create bar chart for \"Survival Count by Age\"\n",
    "plt.figure(figsize=(12, 5))\n",
    "sns.countplot(data=df, x='age_group', hue='survived')\n",
    "plt.title(\"Survival Count by Age Group\")\n",
    "plt.xlabel(\"Age Group(years + months)\")\n",
    "plt.ylabel(\"Count\")\n",
    "plt.xticks(rotation=45)\n",
    "plt.legend(title=\"Survived\")\n",
    "plt.tight_layout()\n",
    "plt.show()"
   ]
  },
  {
   "cell_type": "code",
   "execution_count": 82,
   "id": "821a6f80",
   "metadata": {},
   "outputs": [
    {
     "name": "stdout",
     "output_type": "stream",
     "text": [
      "Survival Count by Age Group:\n",
      "survived          Not Survived  Survived\n",
      "age_group                               \n",
      "(0.34, 8.378]               18        36\n",
      "(8.378, 16.336]             27        19\n",
      "(16.336, 24.294]           114        63\n",
      "(24.294, 32.252]           104        65\n",
      "(32.252, 40.21]             66        52\n",
      "(40.21, 48.168]             46        24\n",
      "(48.168, 56.126]            24        21\n",
      "(56.126, 64.084]            15         9\n",
      "(64.084, 72.042]             9         0\n",
      "(72.042, 80.0]               1         1\n",
      "\n",
      "Proportion Percentages:\n",
      "survived          Not Survived  Survived\n",
      "age_group                               \n",
      "(0.34, 8.378]         0.333333  0.666667\n",
      "(8.378, 16.336]       0.586957  0.413043\n",
      "(16.336, 24.294]      0.644068  0.355932\n",
      "(24.294, 32.252]      0.615385  0.384615\n",
      "(32.252, 40.21]       0.559322  0.440678\n",
      "(40.21, 48.168]       0.657143  0.342857\n",
      "(48.168, 56.126]      0.533333  0.466667\n",
      "(56.126, 64.084]      0.625000  0.375000\n",
      "(64.084, 72.042]      1.000000  0.000000\n",
      "(72.042, 80.0]        0.500000  0.500000\n"
     ]
    }
   ],
   "source": [
    "# Get the actual figures and percentage for survival count by age group\n",
    "age_group_survival_counts = df.groupby(['age_group', 'survived']).size().unstack()\n",
    "age_group_survival_proportions = age_group_survival_counts.div(age_group_survival_counts.sum(axis=1), axis=0)\n",
    "\n",
    "print(\"Survival Count by Age Group:\")\n",
    "print(age_group_survival_counts)\n",
    "print(\"\\nProportion Percentages:\")\n",
    "print(age_group_survival_proportions)"
   ]
  },
  {
   "cell_type": "markdown",
   "id": "76ee9856",
   "metadata": {},
   "source": [
    "### Everyone within the age range of (64.084, 72.042) did not survive\n",
    "### The babies aged (0.34, 8.378) had the highest survival portion, you can view the chart"
   ]
  }
 ],
 "metadata": {
  "kernelspec": {
   "display_name": "Python 3 (ipykernel)",
   "language": "python",
   "name": "python3"
  },
  "language_info": {
   "codemirror_mode": {
    "name": "ipython",
    "version": 3
   },
   "file_extension": ".py",
   "mimetype": "text/x-python",
   "name": "python",
   "nbconvert_exporter": "python",
   "pygments_lexer": "ipython3",
   "version": "3.9.7"
  }
 },
 "nbformat": 4,
 "nbformat_minor": 5
}
